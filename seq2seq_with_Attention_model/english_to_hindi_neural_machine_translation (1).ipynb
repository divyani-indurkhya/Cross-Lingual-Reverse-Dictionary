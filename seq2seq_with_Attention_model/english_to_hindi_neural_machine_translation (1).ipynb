{
  "nbformat": 4,
  "nbformat_minor": 0,
  "metadata": {
    "kernelspec": {
      "display_name": "Python 3",
      "language": "python",
      "name": "python3"
    },
    "language_info": {
      "codemirror_mode": {
        "name": "ipython",
        "version": 3
      },
      "file_extension": ".py",
      "mimetype": "text/x-python",
      "name": "python",
      "nbconvert_exporter": "python",
      "pygments_lexer": "ipython3",
      "version": "3.6.4"
    },
    "colab": {
      "name": "english-to-hindi-neural-machine-translation.ipynb",
      "provenance": [],
      "collapsed_sections": [],
      "toc_visible": true
    }
  },
  "cells": [
    {
      "cell_type": "code",
      "metadata": {
        "_cell_guid": "b1076dfc-b9ad-4769-8c92-a6c4dae69d19",
        "_uuid": "8f2839f25d086af736a60e9eeb907d3b93b6e0e5",
        "id": "dsgVk6tt6-1H",
        "outputId": "87c06d6d-bfae-489a-850a-e23314ef2900",
        "colab": {
          "base_uri": "https://localhost:8080/"
        }
      },
      "source": [
        "# This Python 3 environment comes with many helpful analytics libraries installed\n",
        "# It is defined by the kaggle/python docker image: https://github.com/kaggle/docker-python\n",
        "# For example, here's several helpful packages to load in \n",
        "\n",
        "import numpy as np # linear algebra\n",
        "import pandas as pd # data processing, CSV file I/O (e.g. pd.read_csv)\n",
        "\n",
        "# Input data files are available in the \"../input/\" directory.\n",
        "# For example, running this (by clicking run or pressing Shift+Enter) will list the files in the input directory\n",
        "\n",
        "import os\n",
        "import string\n",
        "from string import digits\n",
        "import matplotlib.pyplot as plt\n",
        "%matplotlib inline\n",
        "import re\n",
        "import glob\n",
        "\n",
        "# Importing drive method from colab for accessing google drive\n",
        "from google.colab import drive\n",
        "import seaborn as sns\n",
        "from sklearn.utils import shuffle\n",
        "from sklearn.model_selection import train_test_split\n",
        "from keras.layers import Input, LSTM,GRU, Embedding, Dense, Concatenate\n",
        "from keras.models import Model\n",
        "\n",
        "print(os.listdir(\".\"))\n",
        "\n",
        "pd.set_option('display.max_rows', 500)\n",
        "pd.set_option('display.max_columns', 500)\n",
        "pd.set_option('display.width', 1000)\n",
        "pd.set_option('display.max_colwidth', -1)\n",
        "drive.mount('/content/drive')\n",
        "# Any results you write to the current directory are saved as output."
      ],
      "execution_count": 1,
      "outputs": [
        {
          "output_type": "stream",
          "text": [
            "['.config', 'nmt_weights1.h5', 'X_train.pkl', 'dot_img_file.jpeg', 'X_test.pkl', 'drive', 'sample_data']\n",
            "Drive already mounted at /content/drive; to attempt to forcibly remount, call drive.mount(\"/content/drive\", force_remount=True).\n"
          ],
          "name": "stdout"
        },
        {
          "output_type": "stream",
          "text": [
            "/usr/local/lib/python3.6/dist-packages/ipykernel_launcher.py:32: FutureWarning: Passing a negative integer is deprecated in version 1.0 and will not be supported in future version. Instead, use None to not limit the column width.\n"
          ],
          "name": "stderr"
        }
      ]
    },
    {
      "cell_type": "code",
      "metadata": {
        "_cell_guid": "79c7e3d0-c299-4dcb-8224-4455121ee9b0",
        "_uuid": "d629ff2d2480ee46fbb7e2d37f6b5fab8052498a",
        "id": "V4zgbBGF6-1v"
      },
      "source": [
        "#lines=pd.read_csv(\"./Hindi_English_Truncated_Corpus.csv\",encoding='utf-8')\n",
        "fields = ['english','hindi','english_gloss','hindi_gloss']\n",
        "# Mounting drive\n",
        "# This will require authentication : Follow the steps as guided\n",
        "\n",
        "\n",
        "lines=pd.read_csv(\"/content/drive/My Drive/df_synset.csv\",encoding='utf-8', usecols=fields)"
      ],
      "execution_count": 2,
      "outputs": []
    },
    {
      "cell_type": "code",
      "metadata": {
        "id": "aOTsPlgM6-2c",
        "outputId": "84c0f902-08bb-495a-a877-ddf1248f8dc2",
        "colab": {
          "base_uri": "https://localhost:8080/",
          "height": 958
        }
      },
      "source": [
        "lines.head(20)"
      ],
      "execution_count": 3,
      "outputs": [
        {
          "output_type": "execute_result",
          "data": {
            "text/html": [
              "<div>\n",
              "<style scoped>\n",
              "    .dataframe tbody tr th:only-of-type {\n",
              "        vertical-align: middle;\n",
              "    }\n",
              "\n",
              "    .dataframe tbody tr th {\n",
              "        vertical-align: top;\n",
              "    }\n",
              "\n",
              "    .dataframe thead th {\n",
              "        text-align: right;\n",
              "    }\n",
              "</style>\n",
              "<table border=\"1\" class=\"dataframe\">\n",
              "  <thead>\n",
              "    <tr style=\"text-align: right;\">\n",
              "      <th></th>\n",
              "      <th>english</th>\n",
              "      <th>english_gloss</th>\n",
              "      <th>hindi</th>\n",
              "      <th>hindi_gloss</th>\n",
              "    </tr>\n",
              "  </thead>\n",
              "  <tbody>\n",
              "    <tr>\n",
              "      <th>0</th>\n",
              "      <td>['suiting']</td>\n",
              "      <td>a fabric used for suits</td>\n",
              "      <td>['सूटिंग']</td>\n",
              "      <td>सूट बनवाने का कपड़ा</td>\n",
              "    </tr>\n",
              "    <tr>\n",
              "      <th>1</th>\n",
              "      <td>['penalty']</td>\n",
              "      <td>(games) a handicap or disadvantage that is imposed on a competitor (or a team) for an infraction of the rules of the game</td>\n",
              "      <td>['पेनाल्टी']</td>\n",
              "      <td>खेल के नियमों का उल्लंघन करने पर किसी प्रतियोगी या टीम पर लगने वाला प्रतिबंध या उसे होने वाला नुकसान</td>\n",
              "    </tr>\n",
              "    <tr>\n",
              "      <th>2</th>\n",
              "      <td>['toilet', 'lavatory', 'lav', 'can', 'john', 'privy', 'bathroom']</td>\n",
              "      <td>a room or building equipped with one or more toilets</td>\n",
              "      <td>['शौचालय', 'शौचागार', 'शौच स्थान', 'पैख़ाना', 'पाख़ाना', 'पायखाना', 'पैखाना', 'पाखाना', 'टॉयलेट']</td>\n",
              "      <td>मल त्याग करने के लिए बनाया गया स्थान</td>\n",
              "    </tr>\n",
              "    <tr>\n",
              "      <th>3</th>\n",
              "      <td>['mount', 'setting']</td>\n",
              "      <td>a mounting consisting of a piece of metal (as in a ring or other jewelry) that holds a gem in place</td>\n",
              "      <td>['जड़ाई', 'जड़ाव', 'जड़ावट']</td>\n",
              "      <td>जड़ने का काम</td>\n",
              "    </tr>\n",
              "    <tr>\n",
              "      <th>4</th>\n",
              "      <td>['forty-fourth', '44th']</td>\n",
              "      <td>the ordinal number of forty-four in counting order</td>\n",
              "      <td>['चवालीसवाँ', 'चौआलिसवाँ', 'चौंआलिसवाँ', 'चौवालिसवाँ', 'चौंवालिसवाँ']</td>\n",
              "      <td>गणना में चवालीस के स्थान पर आनेवाला</td>\n",
              "    </tr>\n",
              "    <tr>\n",
              "      <th>5</th>\n",
              "      <td>['crane']</td>\n",
              "      <td>large long-necked wading bird of marshes and plains in many parts of the world</td>\n",
              "      <td>['कंक', 'दीर्घपाद', 'जलाटन']</td>\n",
              "      <td>एक प्रकार की चील</td>\n",
              "    </tr>\n",
              "    <tr>\n",
              "      <th>6</th>\n",
              "      <td>['giggle', 'titter']</td>\n",
              "      <td>laugh nervously</td>\n",
              "      <td>['खिलखिलाना', 'खिल खिल करना']</td>\n",
              "      <td>खिल खिल शब्द करके हँसना</td>\n",
              "    </tr>\n",
              "    <tr>\n",
              "      <th>7</th>\n",
              "      <td>['devil', 'fiend', 'demon', 'daemon', 'daimon']</td>\n",
              "      <td>one of the evil spirits of traditional Jewish and Christian belief</td>\n",
              "      <td>['अंगारक']</td>\n",
              "      <td>एक असुर</td>\n",
              "    </tr>\n",
              "    <tr>\n",
              "      <th>8</th>\n",
              "      <td>['Upanishad']</td>\n",
              "      <td>a later sacred text of Hinduism of a mystical nature dealing with metaphysical questions</td>\n",
              "      <td>['निरालम्ब उपनिषद्', 'निरालम्ब उपनिषद', 'निरालम्बोपनिषद्', 'निरालम्बोपनिषद', 'निरालंब उपनिषद्', 'निरालंब उपनिषद', 'निरालंबोपनिषद्', 'निरालंबोपनिषद', 'निरालम्ब', 'निरालंब']</td>\n",
              "      <td>एक उपनिषद्</td>\n",
              "    </tr>\n",
              "    <tr>\n",
              "      <th>9</th>\n",
              "      <td>['sage']</td>\n",
              "      <td>a mentor in spiritual and philosophical topics who is renowned for profound wisdom</td>\n",
              "      <td>['द्युम्न', 'द्युम्न ऋषि']</td>\n",
              "      <td>एक पौराणिक ऋषि</td>\n",
              "    </tr>\n",
              "    <tr>\n",
              "      <th>10</th>\n",
              "      <td>['showroom', 'salesroom', 'saleroom']</td>\n",
              "      <td>an area where merchandise (such as cars) can be displayed</td>\n",
              "      <td>['शोरूम', 'प्रदर्शन कक्ष', 'प्रदर्शन-कक्ष', 'प्रदर्शनकक्ष', 'प्रदर्शन-कोष्ठ', 'बिक्री-कक्ष', 'विक्रय-कक्ष']</td>\n",
              "      <td>वह कक्ष या क्षेत्र जिसमें बिक्री की वस्तुएँ सजाकर रखी रहती हैं</td>\n",
              "    </tr>\n",
              "    <tr>\n",
              "      <th>11</th>\n",
              "      <td>['United_Nations', 'UN']</td>\n",
              "      <td>an organization of independent states formed in 1945 to promote international peace and security</td>\n",
              "      <td>['संयुक्त राष्ट्र संघ', 'संयुक्त राष्ट्र', 'संयुक्त राष्ट्रसंघ', 'यूनाइटेड नेशन', 'यूनाइटेड नेशन्स', 'यूनाइटेड नेशंस', 'यूएन']</td>\n",
              "      <td>अंतर्राष्ट्रीय शांति और सुरक्षा को बढ़ावा देने के लिए बना स्वतंत्र राष्ट्रों का एक संगठन</td>\n",
              "    </tr>\n",
              "    <tr>\n",
              "      <th>12</th>\n",
              "      <td>['hunger_strike']</td>\n",
              "      <td>a voluntary fast undertaken as a means of protest</td>\n",
              "      <td>['भूख हड़ताल', 'भूख-हड़ताल', 'भूखहड़ताल', 'अनशन']</td>\n",
              "      <td>वह हड़ताल जिसमें हड़ताली भूखे रहता है यानि अन्न आदि ग्रहण नहीं करता</td>\n",
              "    </tr>\n",
              "    <tr>\n",
              "      <th>13</th>\n",
              "      <td>['advantaged', 'favored']</td>\n",
              "      <td>blessed with advantages</td>\n",
              "      <td>['लाभान्वित', 'लाभांवित', 'लाभ प्राप्तकर्ता']</td>\n",
              "      <td>जिसे लाभ प्राप्त हुआ हो</td>\n",
              "    </tr>\n",
              "    <tr>\n",
              "      <th>14</th>\n",
              "      <td>['Vajra']</td>\n",
              "      <td>Indra' s thunderbolt</td>\n",
              "      <td>['वज्र', 'कुलिश', 'पवि', 'वज्राशनि', 'हीर', 'बज्र', 'इन्द्रायुध', 'इंद्रायुध', 'इन्द्रशस्त्र', 'जातू', 'शाक्वर', 'त्रिदशांकुश', 'त्रिदशायुध', 'तुंज', 'जुञ्ज', 'त्वाष्ट्र', 'अर्क', 'ऋभुक्ष', 'जंभारि', 'बहुधार', 'शतकोटि', 'पौरुहूत', 'वधस्न', 'भेदुर']</td>\n",
              "      <td>इन्द्र का प्रधान शस्त्र</td>\n",
              "    </tr>\n",
              "    <tr>\n",
              "      <th>15</th>\n",
              "      <td>['Geneva', 'Geneve', 'Genf']</td>\n",
              "      <td>a city in southwestern Switzerland at the western end of Lake Geneva</td>\n",
              "      <td>['जेनेवा']</td>\n",
              "      <td>स्विजरलैंड का एक शहर</td>\n",
              "    </tr>\n",
              "    <tr>\n",
              "      <th>16</th>\n",
              "      <td>['bowed_stringed_instrument', 'string']</td>\n",
              "      <td>stringed instruments that are played with a bow</td>\n",
              "      <td>['सिंधी सारंगी', 'सिन्धी सारंगी']</td>\n",
              "      <td>एक प्रकार की सारंगी</td>\n",
              "    </tr>\n",
              "    <tr>\n",
              "      <th>17</th>\n",
              "      <td>['Houses_of_Parliament']</td>\n",
              "      <td>the building in which the House of Commons and the House of Lords meet</td>\n",
              "      <td>['संसद भवन', 'संसद']</td>\n",
              "      <td>वह भवन जहाँ से देश के शासन संबंधी कार्य संचालित होते हैं</td>\n",
              "    </tr>\n",
              "    <tr>\n",
              "      <th>18</th>\n",
              "      <td>['weed']</td>\n",
              "      <td>clear of weeds</td>\n",
              "      <td>['खुरपिआना', 'खुर्पिआना', 'खुर्पियाना', 'खुरपियाना']</td>\n",
              "      <td>खुरपी की सहायता से निराई करना</td>\n",
              "    </tr>\n",
              "    <tr>\n",
              "      <th>19</th>\n",
              "      <td>['Rwanda', 'Rwandese_Republic', 'Ruanda']</td>\n",
              "      <td>a landlocked republic in central Africa</td>\n",
              "      <td>['रवांडा', 'रवाण्डा']</td>\n",
              "      <td>मध्य एवं पूर्वी अफ्रीका का एक देश</td>\n",
              "    </tr>\n",
              "  </tbody>\n",
              "</table>\n",
              "</div>"
            ],
            "text/plain": [
              "                                                              english                                                                                                              english_gloss                                                                                                                                                                                                                                                     hindi                                                                                           hindi_gloss\n",
              "0   ['suiting']                                                        a fabric used for suits                                                                                                    ['सूटिंग']                                                                                                                                                                                                                                                सूट बनवाने का कपड़ा                                                                                 \n",
              "1   ['penalty']                                                        (games) a handicap or disadvantage that is imposed on a competitor (or a team) for an infraction of the rules of the game  ['पेनाल्टी']                                                                                                                                                                                                                                              खेल के नियमों का उल्लंघन करने पर किसी प्रतियोगी या टीम पर लगने वाला प्रतिबंध या उसे होने वाला नुकसान\n",
              "2   ['toilet', 'lavatory', 'lav', 'can', 'john', 'privy', 'bathroom']  a room or building equipped with one or more toilets                                                                       ['शौचालय', 'शौचागार', 'शौच स्थान', 'पैख़ाना', 'पाख़ाना', 'पायखाना', 'पैखाना', 'पाखाना', 'टॉयलेट']                                                                                                                                                         मल त्याग करने के लिए बनाया गया स्थान                                                                \n",
              "3   ['mount', 'setting']                                               a mounting consisting of a piece of metal (as in a ring or other jewelry) that holds a gem in place                        ['जड़ाई', 'जड़ाव', 'जड़ावट']                                                                                                                                                                                                                              जड़ने का काम                                                                                        \n",
              "4   ['forty-fourth', '44th']                                           the ordinal number of forty-four in counting order                                                                         ['चवालीसवाँ', 'चौआलिसवाँ', 'चौंआलिसवाँ', 'चौवालिसवाँ', 'चौंवालिसवाँ']                                                                                                                                                                                     गणना में चवालीस के स्थान पर आनेवाला                                                                 \n",
              "5   ['crane']                                                          large long-necked wading bird of marshes and plains in many parts of the world                                             ['कंक', 'दीर्घपाद', 'जलाटन']                                                                                                                                                                                                                              एक प्रकार की चील                                                                                    \n",
              "6   ['giggle', 'titter']                                               laugh nervously                                                                                                            ['खिलखिलाना', 'खिल खिल करना']                                                                                                                                                                                                                             खिल खिल शब्द करके हँसना                                                                             \n",
              "7   ['devil', 'fiend', 'demon', 'daemon', 'daimon']                    one of the evil spirits of traditional Jewish and Christian belief                                                         ['अंगारक']                                                                                                                                                                                                                                                एक असुर                                                                                             \n",
              "8   ['Upanishad']                                                      a later sacred text of Hinduism of a mystical nature dealing with metaphysical questions                                   ['निरालम्ब उपनिषद्', 'निरालम्ब उपनिषद', 'निरालम्बोपनिषद्', 'निरालम्बोपनिषद', 'निरालंब उपनिषद्', 'निरालंब उपनिषद', 'निरालंबोपनिषद्', 'निरालंबोपनिषद', 'निरालम्ब', 'निरालंब']                                                                               एक उपनिषद्                                                                                          \n",
              "9   ['sage']                                                           a mentor in spiritual and philosophical topics who is renowned for profound wisdom                                         ['द्युम्न', 'द्युम्न ऋषि']                                                                                                                                                                                                                                एक पौराणिक ऋषि                                                                                      \n",
              "10  ['showroom', 'salesroom', 'saleroom']                              an area where merchandise (such as cars) can be displayed                                                                  ['शोरूम', 'प्रदर्शन कक्ष', 'प्रदर्शन-कक्ष', 'प्रदर्शनकक्ष', 'प्रदर्शन-कोष्ठ', 'बिक्री-कक्ष', 'विक्रय-कक्ष']                                                                                                                                               वह कक्ष या क्षेत्र जिसमें बिक्री की वस्तुएँ सजाकर रखी रहती हैं                                      \n",
              "11  ['United_Nations', 'UN']                                           an organization of independent states formed in 1945 to promote international peace and security                           ['संयुक्त राष्ट्र संघ', 'संयुक्त राष्ट्र', 'संयुक्त राष्ट्रसंघ', 'यूनाइटेड नेशन', 'यूनाइटेड नेशन्स', 'यूनाइटेड नेशंस', 'यूएन']                                                                                                                            अंतर्राष्ट्रीय शांति और सुरक्षा को बढ़ावा देने के लिए बना स्वतंत्र राष्ट्रों का एक संगठन            \n",
              "12  ['hunger_strike']                                                  a voluntary fast undertaken as a means of protest                                                                          ['भूख हड़ताल', 'भूख-हड़ताल', 'भूखहड़ताल', 'अनशन']                                                                                                                                                                                                         वह हड़ताल जिसमें हड़ताली भूखे रहता है यानि अन्न आदि ग्रहण नहीं करता                                 \n",
              "13  ['advantaged', 'favored']                                          blessed with advantages                                                                                                    ['लाभान्वित', 'लाभांवित', 'लाभ प्राप्तकर्ता']                                                                                                                                                                                                             जिसे लाभ प्राप्त हुआ हो                                                                             \n",
              "14  ['Vajra']                                                          Indra' s thunderbolt                                                                                                       ['वज्र', 'कुलिश', 'पवि', 'वज्राशनि', 'हीर', 'बज्र', 'इन्द्रायुध', 'इंद्रायुध', 'इन्द्रशस्त्र', 'जातू', 'शाक्वर', 'त्रिदशांकुश', 'त्रिदशायुध', 'तुंज', 'जुञ्ज', 'त्वाष्ट्र', 'अर्क', 'ऋभुक्ष', 'जंभारि', 'बहुधार', 'शतकोटि', 'पौरुहूत', 'वधस्न', 'भेदुर']  इन्द्र का प्रधान शस्त्र                                                                             \n",
              "15  ['Geneva', 'Geneve', 'Genf']                                       a city in southwestern Switzerland at the western end of Lake Geneva                                                       ['जेनेवा']                                                                                                                                                                                                                                                स्विजरलैंड का एक शहर                                                                                \n",
              "16  ['bowed_stringed_instrument', 'string']                            stringed instruments that are played with a bow                                                                            ['सिंधी सारंगी', 'सिन्धी सारंगी']                                                                                                                                                                                                                         एक प्रकार की सारंगी                                                                                 \n",
              "17  ['Houses_of_Parliament']                                           the building in which the House of Commons and the House of Lords meet                                                     ['संसद भवन', 'संसद']                                                                                                                                                                                                                                      वह भवन जहाँ से देश के शासन संबंधी कार्य संचालित होते हैं                                            \n",
              "18  ['weed']                                                           clear of weeds                                                                                                             ['खुरपिआना', 'खुर्पिआना', 'खुर्पियाना', 'खुरपियाना']                                                                                                                                                                                                      खुरपी की सहायता से निराई करना                                                                       \n",
              "19  ['Rwanda', 'Rwandese_Republic', 'Ruanda']                          a landlocked republic in central Africa                                                                                    ['रवांडा', 'रवाण्डा']                                                                                                                                                                                                                                     मध्य एवं पूर्वी अफ्रीका का एक देश                                                                   "
            ]
          },
          "metadata": {
            "tags": []
          },
          "execution_count": 3
        }
      ]
    },
    {
      "cell_type": "code",
      "metadata": {
        "id": "3OtI4xi36-2q",
        "outputId": "97a3ca0f-c231-48d4-eabc-1d58aebed4fb",
        "colab": {
          "base_uri": "https://localhost:8080/"
        }
      },
      "source": [
        "pd.isnull(lines).sum()"
      ],
      "execution_count": 4,
      "outputs": [
        {
          "output_type": "execute_result",
          "data": {
            "text/plain": [
              "english          0\n",
              "english_gloss    0\n",
              "hindi            0\n",
              "hindi_gloss      0\n",
              "dtype: int64"
            ]
          },
          "metadata": {
            "tags": []
          },
          "execution_count": 4
        }
      ]
    },
    {
      "cell_type": "code",
      "metadata": {
        "id": "cE-Zv6wj6-22",
        "outputId": "3459601d-007e-4716-abc0-e015a9b957bd",
        "colab": {
          "base_uri": "https://localhost:8080/"
        }
      },
      "source": [
        "#lines=lines[~pd.isnull(lines['english_sentence'])]\n",
        "lines.shape[0]"
      ],
      "execution_count": 5,
      "outputs": [
        {
          "output_type": "execute_result",
          "data": {
            "text/plain": [
              "11345"
            ]
          },
          "metadata": {
            "tags": []
          },
          "execution_count": 5
        }
      ]
    },
    {
      "cell_type": "code",
      "metadata": {
        "id": "1F-IZaCQ6-3B"
      },
      "source": [
        "#lines.drop_duplicates(inplace=True)"
      ],
      "execution_count": 6,
      "outputs": []
    },
    {
      "cell_type": "markdown",
      "metadata": {
        "id": "4WJNSRwR6-3O"
      },
      "source": [
        "* ### Let us pick any 25000 rows from the dataset."
      ]
    },
    {
      "cell_type": "code",
      "metadata": {
        "id": "HYQGJ_DB6-3R",
        "outputId": "a8f72f51-fc99-4699-cd73-62d82c8e996d",
        "colab": {
          "base_uri": "https://localhost:8080/"
        }
      },
      "source": [
        "import math\n",
        "lines=lines.sample(n=math.floor(lines.shape[0]*.8),random_state=42)\n",
        "lines.shape"
      ],
      "execution_count": 7,
      "outputs": [
        {
          "output_type": "execute_result",
          "data": {
            "text/plain": [
              "(9076, 4)"
            ]
          },
          "metadata": {
            "tags": []
          },
          "execution_count": 7
        }
      ]
    },
    {
      "cell_type": "code",
      "metadata": {
        "id": "hyVdoe9R6-3e"
      },
      "source": [
        "# Lowercase all characters\n",
        "english_sentence = 'english_gloss'\n",
        "hindi_sentence = 'hindi_gloss'\n",
        "lines[english_sentence]=lines[english_sentence].apply(lambda x: x.lower())\n",
        "lines[hindi_sentence]=lines[hindi_sentence].apply(lambda x: x.lower())"
      ],
      "execution_count": 8,
      "outputs": []
    },
    {
      "cell_type": "code",
      "metadata": {
        "id": "053Z3ZlL6-3r"
      },
      "source": [
        "# Remove quotes\n",
        "lines[english_sentence]=lines[english_sentence].apply(lambda x: re.sub(\"'\", '', x))\n",
        "lines[hindi_sentence]=lines[hindi_sentence].apply(lambda x: re.sub(\"'\", '', x))"
      ],
      "execution_count": 9,
      "outputs": []
    },
    {
      "cell_type": "code",
      "metadata": {
        "id": "hbPio-Bs6-31"
      },
      "source": [
        "exclude = set(string.punctuation) # Set of all special characters\n",
        "# Remove all the special characters\n",
        "lines[english_sentence]=lines[english_sentence].apply(lambda x: ''.join(ch for ch in x if ch not in exclude))\n",
        "lines[hindi_sentence]=lines[hindi_sentence].apply(lambda x: ''.join(ch for ch in x if ch not in exclude))"
      ],
      "execution_count": 10,
      "outputs": []
    },
    {
      "cell_type": "code",
      "metadata": {
        "id": "2QUHGMqk6-4E"
      },
      "source": [
        "# Remove all numbers from text\n",
        "remove_digits = str.maketrans('', '', digits)\n",
        "lines[english_sentence]=lines[english_sentence].apply(lambda x: x.translate(remove_digits))\n",
        "lines[hindi_sentence]=lines[hindi_sentence].apply(lambda x: x.translate(remove_digits))\n",
        "\n",
        "lines[hindi_sentence] = lines[hindi_sentence].apply(lambda x: re.sub(\"[२३०८१५७९४६]\", \"\", x))\n",
        "\n",
        "# Remove extra spaces\n",
        "lines[english_sentence]=lines[english_sentence].apply(lambda x: x.strip())\n",
        "lines[hindi_sentence]=lines[hindi_sentence].apply(lambda x: x.strip())\n",
        "lines[english_sentence]=lines[english_sentence].apply(lambda x: re.sub(\" +\", \" \", x))\n",
        "lines[hindi_sentence]=lines[hindi_sentence].apply(lambda x: re.sub(\" +\", \" \", x))\n"
      ],
      "execution_count": 11,
      "outputs": []
    },
    {
      "cell_type": "code",
      "metadata": {
        "id": "K4hNB4Nd6-4P"
      },
      "source": [
        "# Add start and end tokens to target sequences\n",
        "lines[hindi_sentence] = lines[hindi_sentence].apply(lambda x : 'START_ '+ x + ' _END')"
      ],
      "execution_count": 12,
      "outputs": []
    },
    {
      "cell_type": "code",
      "metadata": {
        "id": "EcbQPk_b6-4e",
        "outputId": "a8a5c653-45de-4088-b6a2-be5ee285b23e",
        "colab": {
          "base_uri": "https://localhost:8080/",
          "height": 391
        }
      },
      "source": [
        "lines.head()"
      ],
      "execution_count": 13,
      "outputs": [
        {
          "output_type": "execute_result",
          "data": {
            "text/html": [
              "<div>\n",
              "<style scoped>\n",
              "    .dataframe tbody tr th:only-of-type {\n",
              "        vertical-align: middle;\n",
              "    }\n",
              "\n",
              "    .dataframe tbody tr th {\n",
              "        vertical-align: top;\n",
              "    }\n",
              "\n",
              "    .dataframe thead th {\n",
              "        text-align: right;\n",
              "    }\n",
              "</style>\n",
              "<table border=\"1\" class=\"dataframe\">\n",
              "  <thead>\n",
              "    <tr style=\"text-align: right;\">\n",
              "      <th></th>\n",
              "      <th>english</th>\n",
              "      <th>english_gloss</th>\n",
              "      <th>hindi</th>\n",
              "      <th>hindi_gloss</th>\n",
              "    </tr>\n",
              "  </thead>\n",
              "  <tbody>\n",
              "    <tr>\n",
              "      <th>9877</th>\n",
              "      <td>['Libyan']</td>\n",
              "      <td>of or relating to libya or its people</td>\n",
              "      <td>['लीबियाई', 'लीबियन']</td>\n",
              "      <td>START_ लीबिया का या लीबिया से संबंधित _END</td>\n",
              "    </tr>\n",
              "    <tr>\n",
              "      <th>543</th>\n",
              "      <td>['Rama']</td>\n",
              "      <td>avatar of vishnu whose name is synonymous with god</td>\n",
              "      <td>['श्री राम', 'श्रीराम', 'राम', 'रामचंद्र', 'रामचन्द्र', 'श्रीरामचंद्र', 'श्रीरामचन्द्र', 'भगवान राम', 'राघव', 'रघुवीर', 'रघुबीर', 'रघुपति', 'रघुनाथ', 'रघुनंदन', 'रघुवर', 'रघुबर', 'राघवेंद्र', 'जानकीनाथ', 'जानकी वल्लभ', 'शारंगपाणि', 'शारंगपानि', 'अवध बिहारी', 'कौशलेय', 'खरारि', 'खरारी', 'ताड़कारि', 'बालीहंता', 'राघवेन्द्र', 'रावणारि', 'त्रिशिरारि', 'त्रिसिरारि', 'सीतापति', 'रघुवंशतिलक', 'रघुवंशमणि', 'रघुराय', 'रघुराज', 'रघुनायक', 'रघुराई', 'रघुनन्दन', 'तुलसीस', 'कोशलाधीश', 'जानकी-जानि', 'जानकी-जीवन', 'जानकीरमण', 'कामपाल', 'रागच्छन', 'मखत्राता']</td>\n",
              "      <td>START_ राजा दशरथ के पुत्र जो भगवान विष्णु के अवतार माने जाते हैं _END</td>\n",
              "    </tr>\n",
              "    <tr>\n",
              "      <th>1766</th>\n",
              "      <td>['roentgenogram', 'X_ray', 'X-ray', 'X-ray_picture', 'X-ray_photograph']</td>\n",
              "      <td>a radiogram made by exposing photographic film to x rays</td>\n",
              "      <td>['ऐक्स-रे', 'एक्स-रे', 'ऐक्स रे', 'एक्स रे', 'एक्सरा']</td>\n",
              "      <td>START_ रोग के निदान के लिए क्षकिरण की सहायता से लिया जानेवाला शरीर के किसी आंतरिक भाग का फोटो _END</td>\n",
              "    </tr>\n",
              "    <tr>\n",
              "      <th>10678</th>\n",
              "      <td>['floating']</td>\n",
              "      <td>borne up by or suspended in a liquid</td>\n",
              "      <td>['तैरता हुआ', 'तैरता', 'तिरता हुआ', 'तिरता']</td>\n",
              "      <td>START_ जो द्रव में तैर रहा हो _END</td>\n",
              "    </tr>\n",
              "    <tr>\n",
              "      <th>1277</th>\n",
              "      <td>['dairy_product']</td>\n",
              "      <td>milk and butter and cheese</td>\n",
              "      <td>['दुग्ध उत्पाद', 'दूध उत्पाद']</td>\n",
              "      <td>START_ वह वस्तु जो दूध से उत्पन्न हो या दूध से बनी हो _END</td>\n",
              "    </tr>\n",
              "  </tbody>\n",
              "</table>\n",
              "</div>"
            ],
            "text/plain": [
              "                                                                        english                                             english_gloss                                                                                                                                                                                                                                                                                                                                                                                                                                                                                                                                                                  hindi                                                                                         hindi_gloss\n",
              "9877   ['Libyan']                                                                of or relating to libya or its people                     ['लीबियाई', 'लीबियन']                                                                                                                                                                                                                                                                                                                                                                                                                                                                                                                                                  START_ लीबिया का या लीबिया से संबंधित _END                                                        \n",
              "543    ['Rama']                                                                  avatar of vishnu whose name is synonymous with god        ['श्री राम', 'श्रीराम', 'राम', 'रामचंद्र', 'रामचन्द्र', 'श्रीरामचंद्र', 'श्रीरामचन्द्र', 'भगवान राम', 'राघव', 'रघुवीर', 'रघुबीर', 'रघुपति', 'रघुनाथ', 'रघुनंदन', 'रघुवर', 'रघुबर', 'राघवेंद्र', 'जानकीनाथ', 'जानकी वल्लभ', 'शारंगपाणि', 'शारंगपानि', 'अवध बिहारी', 'कौशलेय', 'खरारि', 'खरारी', 'ताड़कारि', 'बालीहंता', 'राघवेन्द्र', 'रावणारि', 'त्रिशिरारि', 'त्रिसिरारि', 'सीतापति', 'रघुवंशतिलक', 'रघुवंशमणि', 'रघुराय', 'रघुराज', 'रघुनायक', 'रघुराई', 'रघुनन्दन', 'तुलसीस', 'कोशलाधीश', 'जानकी-जानि', 'जानकी-जीवन', 'जानकीरमण', 'कामपाल', 'रागच्छन', 'मखत्राता']  START_ राजा दशरथ के पुत्र जो भगवान विष्णु के अवतार माने जाते हैं _END                             \n",
              "1766   ['roentgenogram', 'X_ray', 'X-ray', 'X-ray_picture', 'X-ray_photograph']  a radiogram made by exposing photographic film to x rays  ['ऐक्स-रे', 'एक्स-रे', 'ऐक्स रे', 'एक्स रे', 'एक्सरा']                                                                                                                                                                                                                                                                                                                                                                                                                                                                                                                 START_ रोग के निदान के लिए क्षकिरण की सहायता से लिया जानेवाला शरीर के किसी आंतरिक भाग का फोटो _END\n",
              "10678  ['floating']                                                              borne up by or suspended in a liquid                      ['तैरता हुआ', 'तैरता', 'तिरता हुआ', 'तिरता']                                                                                                                                                                                                                                                                                                                                                                                                                                                                                                                           START_ जो द्रव में तैर रहा हो _END                                                                \n",
              "1277   ['dairy_product']                                                         milk and butter and cheese                                ['दुग्ध उत्पाद', 'दूध उत्पाद']                                                                                                                                                                                                                                                                                                                                                                                                                                                                                                                                         START_ वह वस्तु जो दूध से उत्पन्न हो या दूध से बनी हो _END                                        "
            ]
          },
          "metadata": {
            "tags": []
          },
          "execution_count": 13
        }
      ]
    },
    {
      "cell_type": "code",
      "metadata": {
        "id": "Xuu_LIqK6-4r",
        "outputId": "03580394-c862-4cf8-f238-464e4af83bcd",
        "colab": {
          "base_uri": "https://localhost:8080/"
        }
      },
      "source": [
        "### Get English and Hindi Vocabulary\n",
        "all_eng_words=set()\n",
        "for eng in lines[english_sentence]:\n",
        "    for word in eng.split():\n",
        "        if word not in all_eng_words:\n",
        "            all_eng_words.add(word)\n",
        "\n",
        "all_hindi_words=set()\n",
        "for hin in lines[hindi_sentence]:\n",
        "    for word in hin.split():\n",
        "        if word not in all_hindi_words:\n",
        "            all_hindi_words.add(word)\n",
        "\n",
        "len(all_eng_words)\n",
        "len(all_hindi_words)"
      ],
      "execution_count": 14,
      "outputs": [
        {
          "output_type": "execute_result",
          "data": {
            "text/plain": [
              "8322"
            ]
          },
          "metadata": {
            "tags": []
          },
          "execution_count": 14
        }
      ]
    },
    {
      "cell_type": "code",
      "metadata": {
        "id": "kBtnmm8qokI1",
        "outputId": "bfbaea09-26b8-4091-e8a3-688fb302c165",
        "colab": {
          "base_uri": "https://localhost:8080/"
        }
      },
      "source": [
        "lines['english']=lines['english'].apply(lambda x:x.replace(\"'\", \"\").strip('][').split(', '))\n",
        "lines['hindi']=lines['hindi'].apply(lambda x:x.replace(\"'\", \"\").strip('][').split(', '))\n",
        "lines['length_eng_word']=lines['english'].apply(lambda x:len(x))\n",
        "lines['length_hin_word']=lines['hindi'].apply(lambda x:len(x))\n",
        "print(\"maximum length of Hindi Word \",max(lines['length_hin_word']))\n",
        "print(\"maximum length of English Word \",max(lines['length_eng_word']))\n",
        "max_length_eng=max(lines['length_eng_word'])\n",
        "max_length_hin=max(lines['length_hin_word'])\n",
        "lines['english']=lines['english'].apply(lambda x:x[0])\n",
        "lines['hindi']=lines['hindi'].apply(lambda x:x[0])"
      ],
      "execution_count": 15,
      "outputs": [
        {
          "output_type": "stream",
          "text": [
            "maximum length of Hindi Word  128\n",
            "maximum length of English Word  27\n"
          ],
          "name": "stdout"
        }
      ]
    },
    {
      "cell_type": "code",
      "metadata": {
        "id": "m-sVXj-QqhpX"
      },
      "source": [
        "for eng in lines['english']:\n",
        "  if eng not in all_hindi_words:\n",
        "    all_eng_words.add(eng)\n",
        "for hin in lines['hindi']:\n",
        "  if hin not in all_hindi_words:\n",
        "    all_hindi_words.add(hin)"
      ],
      "execution_count": 16,
      "outputs": []
    },
    {
      "cell_type": "code",
      "metadata": {
        "id": "fi1voMiD6-4-",
        "outputId": "6aed8c1d-079d-4cdf-d503-ef58d1099347",
        "colab": {
          "base_uri": "https://localhost:8080/"
        }
      },
      "source": [
        "len(all_eng_words)"
      ],
      "execution_count": 17,
      "outputs": [
        {
          "output_type": "execute_result",
          "data": {
            "text/plain": [
              "12304"
            ]
          },
          "metadata": {
            "tags": []
          },
          "execution_count": 17
        }
      ]
    },
    {
      "cell_type": "code",
      "metadata": {
        "id": "uM6jjKRM6-5H",
        "outputId": "fd99fe38-a1d5-4602-9fba-3aecc85ede2d",
        "colab": {
          "base_uri": "https://localhost:8080/"
        }
      },
      "source": [
        "all_hindi_words.add('START_')\n",
        "all_hindi_words.add('_END')\n",
        "len(all_hindi_words)"
      ],
      "execution_count": 18,
      "outputs": [
        {
          "output_type": "execute_result",
          "data": {
            "text/plain": [
              "15026"
            ]
          },
          "metadata": {
            "tags": []
          },
          "execution_count": 18
        }
      ]
    },
    {
      "cell_type": "code",
      "metadata": {
        "id": "5e8PH91K6-5R"
      },
      "source": [
        "lines['length_eng_sentence']=lines[english_sentence].apply(lambda x:len(x.split(\" \")))\n",
        "lines['length_hin_sentence']=lines[hindi_sentence].apply(lambda x:len(x.split(\" \")))"
      ],
      "execution_count": 19,
      "outputs": []
    },
    {
      "cell_type": "code",
      "metadata": {
        "id": "_0QNWQst6-5d",
        "outputId": "3a0c1f89-c8b7-4c91-c3c8-e57ef7b2105a",
        "colab": {
          "base_uri": "https://localhost:8080/",
          "height": 272
        }
      },
      "source": [
        "lines.head()"
      ],
      "execution_count": 20,
      "outputs": [
        {
          "output_type": "execute_result",
          "data": {
            "text/html": [
              "<div>\n",
              "<style scoped>\n",
              "    .dataframe tbody tr th:only-of-type {\n",
              "        vertical-align: middle;\n",
              "    }\n",
              "\n",
              "    .dataframe tbody tr th {\n",
              "        vertical-align: top;\n",
              "    }\n",
              "\n",
              "    .dataframe thead th {\n",
              "        text-align: right;\n",
              "    }\n",
              "</style>\n",
              "<table border=\"1\" class=\"dataframe\">\n",
              "  <thead>\n",
              "    <tr style=\"text-align: right;\">\n",
              "      <th></th>\n",
              "      <th>english</th>\n",
              "      <th>english_gloss</th>\n",
              "      <th>hindi</th>\n",
              "      <th>hindi_gloss</th>\n",
              "      <th>length_eng_word</th>\n",
              "      <th>length_hin_word</th>\n",
              "      <th>length_eng_sentence</th>\n",
              "      <th>length_hin_sentence</th>\n",
              "    </tr>\n",
              "  </thead>\n",
              "  <tbody>\n",
              "    <tr>\n",
              "      <th>9877</th>\n",
              "      <td>Libyan</td>\n",
              "      <td>of or relating to libya or its people</td>\n",
              "      <td>लीबियाई</td>\n",
              "      <td>START_ लीबिया का या लीबिया से संबंधित _END</td>\n",
              "      <td>1</td>\n",
              "      <td>2</td>\n",
              "      <td>8</td>\n",
              "      <td>8</td>\n",
              "    </tr>\n",
              "    <tr>\n",
              "      <th>543</th>\n",
              "      <td>Rama</td>\n",
              "      <td>avatar of vishnu whose name is synonymous with god</td>\n",
              "      <td>श्री राम</td>\n",
              "      <td>START_ राजा दशरथ के पुत्र जो भगवान विष्णु के अवतार माने जाते हैं _END</td>\n",
              "      <td>1</td>\n",
              "      <td>47</td>\n",
              "      <td>9</td>\n",
              "      <td>14</td>\n",
              "    </tr>\n",
              "    <tr>\n",
              "      <th>1766</th>\n",
              "      <td>roentgenogram</td>\n",
              "      <td>a radiogram made by exposing photographic film to x rays</td>\n",
              "      <td>ऐक्स-रे</td>\n",
              "      <td>START_ रोग के निदान के लिए क्षकिरण की सहायता से लिया जानेवाला शरीर के किसी आंतरिक भाग का फोटो _END</td>\n",
              "      <td>5</td>\n",
              "      <td>5</td>\n",
              "      <td>10</td>\n",
              "      <td>20</td>\n",
              "    </tr>\n",
              "    <tr>\n",
              "      <th>10678</th>\n",
              "      <td>floating</td>\n",
              "      <td>borne up by or suspended in a liquid</td>\n",
              "      <td>तैरता हुआ</td>\n",
              "      <td>START_ जो द्रव में तैर रहा हो _END</td>\n",
              "      <td>1</td>\n",
              "      <td>4</td>\n",
              "      <td>8</td>\n",
              "      <td>8</td>\n",
              "    </tr>\n",
              "    <tr>\n",
              "      <th>1277</th>\n",
              "      <td>dairy_product</td>\n",
              "      <td>milk and butter and cheese</td>\n",
              "      <td>दुग्ध उत्पाद</td>\n",
              "      <td>START_ वह वस्तु जो दूध से उत्पन्न हो या दूध से बनी हो _END</td>\n",
              "      <td>1</td>\n",
              "      <td>2</td>\n",
              "      <td>5</td>\n",
              "      <td>14</td>\n",
              "    </tr>\n",
              "  </tbody>\n",
              "</table>\n",
              "</div>"
            ],
            "text/plain": [
              "             english                                             english_gloss         hindi                                                                                         hindi_gloss  length_eng_word  length_hin_word  length_eng_sentence  length_hin_sentence\n",
              "9877   Libyan         of or relating to libya or its people                     लीबियाई       START_ लीबिया का या लीबिया से संबंधित _END                                                          1                2                8                    8                  \n",
              "543    Rama           avatar of vishnu whose name is synonymous with god        श्री राम      START_ राजा दशरथ के पुत्र जो भगवान विष्णु के अवतार माने जाते हैं _END                               1                47               9                    14                 \n",
              "1766   roentgenogram  a radiogram made by exposing photographic film to x rays  ऐक्स-रे       START_ रोग के निदान के लिए क्षकिरण की सहायता से लिया जानेवाला शरीर के किसी आंतरिक भाग का फोटो _END  5                5                10                   20                 \n",
              "10678  floating       borne up by or suspended in a liquid                      तैरता हुआ     START_ जो द्रव में तैर रहा हो _END                                                                  1                4                8                    8                  \n",
              "1277   dairy_product  milk and butter and cheese                                दुग्ध उत्पाद  START_ वह वस्तु जो दूध से उत्पन्न हो या दूध से बनी हो _END                                          1                2                5                    14                 "
            ]
          },
          "metadata": {
            "tags": []
          },
          "execution_count": 20
        }
      ]
    },
    {
      "cell_type": "code",
      "metadata": {
        "id": "vljtDF-D6-5p",
        "outputId": "3a25c086-88e5-4275-8547-6558a426673e",
        "colab": {
          "base_uri": "https://localhost:8080/"
        }
      },
      "source": [
        "lines[lines['length_eng_sentence']>50].shape"
      ],
      "execution_count": 21,
      "outputs": [
        {
          "output_type": "execute_result",
          "data": {
            "text/plain": [
              "(0, 8)"
            ]
          },
          "metadata": {
            "tags": []
          },
          "execution_count": 21
        }
      ]
    },
    {
      "cell_type": "code",
      "metadata": {
        "id": "RiBRA_PL6-52"
      },
      "source": [
        "#lines=lines[lines['length_eng_sentence']<=20]\n",
        "#lines=lines[lines['length_hin_sentence']<=20]"
      ],
      "execution_count": 22,
      "outputs": []
    },
    {
      "cell_type": "code",
      "metadata": {
        "id": "ndlZx6It6-6E",
        "outputId": "17e543cd-253c-485d-8c95-f98d4d85a9f3",
        "colab": {
          "base_uri": "https://localhost:8080/"
        }
      },
      "source": [
        "lines.shape"
      ],
      "execution_count": 23,
      "outputs": [
        {
          "output_type": "execute_result",
          "data": {
            "text/plain": [
              "(9076, 8)"
            ]
          },
          "metadata": {
            "tags": []
          },
          "execution_count": 23
        }
      ]
    },
    {
      "cell_type": "code",
      "metadata": {
        "id": "76oVjolj6-6N",
        "outputId": "7f143e13-6bb8-416d-ab04-e914d2767dff",
        "colab": {
          "base_uri": "https://localhost:8080/"
        }
      },
      "source": [
        "print(\"maximum length of Hindi Sentence \",max(lines['length_hin_sentence']))\n",
        "print(\"maximum length of English Sentence \",max(lines['length_eng_sentence']))"
      ],
      "execution_count": 24,
      "outputs": [
        {
          "output_type": "stream",
          "text": [
            "maximum length of Hindi Sentence  63\n",
            "maximum length of English Sentence  50\n"
          ],
          "name": "stdout"
        }
      ]
    },
    {
      "cell_type": "code",
      "metadata": {
        "id": "ndv0XBc56-6V"
      },
      "source": [
        "max_length_src=max(max(lines['length_hin_sentence']),max(lines['length_eng_sentence']))\n",
        "max_length_tar=max_length_src"
      ],
      "execution_count": 25,
      "outputs": []
    },
    {
      "cell_type": "code",
      "metadata": {
        "id": "Z6W-1Vuq6-6b",
        "outputId": "bfbe93bc-76f3-4cfc-acdf-7211d9fbf75e",
        "colab": {
          "base_uri": "https://localhost:8080/"
        }
      },
      "source": [
        "input_words = sorted(list(all_eng_words))\n",
        "target_words = sorted(list(all_hindi_words))\n",
        "num_encoder_tokens = len(all_eng_words)\n",
        "num_decoder_tokens = len(all_hindi_words)\n",
        "num_encoder_tokens, num_decoder_tokens"
      ],
      "execution_count": 26,
      "outputs": [
        {
          "output_type": "execute_result",
          "data": {
            "text/plain": [
              "(12304, 15026)"
            ]
          },
          "metadata": {
            "tags": []
          },
          "execution_count": 26
        }
      ]
    },
    {
      "cell_type": "code",
      "metadata": {
        "id": "fta7OrEs6-6m"
      },
      "source": [
        "num_decoder_tokens += 1 #for zero padding\n",
        "num_encoder_tokens += 1\n"
      ],
      "execution_count": 27,
      "outputs": []
    },
    {
      "cell_type": "code",
      "metadata": {
        "id": "ZF6_XMN16-6s"
      },
      "source": [
        "input_token_index = dict([(word, i+1) for i, word in enumerate(input_words)])\n",
        "target_token_index = dict([(word, i+1) for i, word in enumerate(target_words)])"
      ],
      "execution_count": 28,
      "outputs": []
    },
    {
      "cell_type": "code",
      "metadata": {
        "id": "AmsNOfTR6-61"
      },
      "source": [
        "reverse_input_char_index = dict((i, word) for word, i in input_token_index.items())\n",
        "reverse_target_char_index = dict((i, word) for word, i in target_token_index.items())"
      ],
      "execution_count": 29,
      "outputs": []
    },
    {
      "cell_type": "code",
      "metadata": {
        "id": "JVy8dIYc6-67"
      },
      "source": [
        "lines.head(10)\n",
        "lines = shuffle(lines)\n"
      ],
      "execution_count": 30,
      "outputs": []
    },
    {
      "cell_type": "markdown",
      "metadata": {
        "id": "prx5bdSj6-7C"
      },
      "source": [
        "### Split the data into train and test"
      ]
    },
    {
      "cell_type": "code",
      "metadata": {
        "id": "wCZLnpiw6-7D",
        "outputId": "ef99522b-16e1-4dba-9ce8-6bf32ad185b8",
        "colab": {
          "base_uri": "https://localhost:8080/"
        }
      },
      "source": [
        "Xen, Xhi,yen,yhi = lines[english_sentence], lines[hindi_sentence],lines['english'], lines['hindi']\n",
        "X_train, X_test, y_train, y_test , y1_train, y1_test , y2_train, y2_test = train_test_split(Xen, Xhi,yen,yhi,test_size = 0.2,random_state=42)\n",
        "X_train.shape, X_test.shape,y_train.shape, y_test.shape,y1_train.shape, y1_test.shape,y2_train.shape, y2_test.shape"
      ],
      "execution_count": 31,
      "outputs": [
        {
          "output_type": "execute_result",
          "data": {
            "text/plain": [
              "((7260,), (1816,), (7260,), (1816,), (7260,), (1816,), (7260,), (1816,))"
            ]
          },
          "metadata": {
            "tags": []
          },
          "execution_count": 31
        }
      ]
    },
    {
      "cell_type": "markdown",
      "metadata": {
        "id": "8j2Q2MKq6-7K"
      },
      "source": [
        "### Let us save this data"
      ]
    },
    {
      "cell_type": "code",
      "metadata": {
        "id": "F5ag1s0a6-7L"
      },
      "source": [
        "X_train.to_pickle('X_train.pkl')\n",
        "X_test.to_pickle('X_test.pkl')\n"
      ],
      "execution_count": 32,
      "outputs": []
    },
    {
      "cell_type": "markdown",
      "metadata": {
        "id": "LiOlyrfl6-7b"
      },
      "source": [
        "### Encoder-Decoder Architecture"
      ]
    },
    {
      "cell_type": "code",
      "metadata": {
        "id": "3Zswczs46-7d"
      },
      "source": [
        "latent_dim=500"
      ],
      "execution_count": 33,
      "outputs": []
    },
    {
      "cell_type": "code",
      "metadata": {
        "id": "vK36Mdua6-7k"
      },
      "source": [
        "# Encoder\n",
        "encoder_inputs = Input(shape=(None,), name ='I1')\n",
        "enc_emb_layer =  Embedding(num_encoder_tokens, latent_dim, mask_zero = True)\n",
        "enc_emb = enc_emb_layer(encoder_inputs)\n",
        "encoder_lstm = LSTM(latent_dim, return_sequences=True, return_state=True)\n",
        "encoder_outputs, state_h, state_c = encoder_lstm(enc_emb)\n",
        "# We discard `encoder_outputs` and only keep the states.\n",
        "encoder_states = [state_h, state_c]"
      ],
      "execution_count": 34,
      "outputs": []
    },
    {
      "cell_type": "code",
      "metadata": {
        "id": "VBJ6KdLL6-7s"
      },
      "source": [
        "# Set up the decoder, using `encoder_states` as initial state.\n",
        "decoder_inputs = Input(shape=(None,), name ='I2')\n",
        "dec_emb_layer = Embedding(num_decoder_tokens, latent_dim, mask_zero = True)\n",
        "dec_emb = dec_emb_layer(decoder_inputs)\n",
        "\n",
        "# We set up our decoder to return full output sequences,\n",
        "# and to return internal states as well. We don't use the\n",
        "# return states in the training model, but we will use them in inference.\n",
        "decoder_lstm = LSTM(latent_dim, return_sequences=True, return_state=True)\n",
        "whole_lstm_seq,cstate, nstate = decoder_lstm(dec_emb,\n",
        "                                     initial_state=encoder_states)\n",
        "# decoder_GRU = GRU(latent_dim, return_sequences=True, return_state=True)\n",
        "# whole_seq, state = decoder_GRU(whole_lstm_seq, initial_state=cstate)\n",
        "decoder_dense = Dense(num_decoder_tokens, activation='softmax', name ='O1')\n",
        "decoder_outputs1 = decoder_dense(whole_lstm_seq)\n",
        "\n",
        "\n",
        "conca = Concatenate()([whole_lstm_seq,encoder_outputs])\n",
        "\n",
        "decoder_lstmd = GRU(latent_dim,  return_state=True)\n",
        "whole_lstm_seqd,cstated = decoder_lstmd(conca)\n",
        "\n",
        "decoder_dense1 = Dense(num_decoder_tokens, activation='softmax', name ='O2')\n",
        "decoder_outputs2 = decoder_dense1(whole_lstm_seqd)\n",
        "# Define the model that will turn\n",
        "# `encoder_input_data` & `decoder_input_data` into `decoder_target_data`\n",
        "model = Model(inputs=[encoder_inputs, decoder_inputs], outputs=[decoder_outputs1,decoder_outputs2])"
      ],
      "execution_count": 35,
      "outputs": []
    },
    {
      "cell_type": "code",
      "metadata": {
        "id": "XpkBVXxg6-75"
      },
      "source": [
        "model.compile(optimizer='rmsprop', loss='categorical_crossentropy')"
      ],
      "execution_count": 36,
      "outputs": []
    },
    {
      "cell_type": "code",
      "metadata": {
        "id": "jllHfeub6-8D",
        "outputId": "642d39ef-5250-44aa-d8a7-7ad0ad3052f3",
        "colab": {
          "base_uri": "https://localhost:8080/",
          "height": 1000
        }
      },
      "source": [
        "model.summary()\n",
        "\n",
        "from keras.utils.vis_utils import plot_model\n",
        "#model.load_weights('/content/drive/My Drive/nmt_weights.h5')\n",
        "plot_model(model, to_file=\"dot_img_file.jpeg\", show_shapes=True)"
      ],
      "execution_count": 37,
      "outputs": [
        {
          "output_type": "stream",
          "text": [
            "Model: \"functional_1\"\n",
            "__________________________________________________________________________________________________\n",
            "Layer (type)                    Output Shape         Param #     Connected to                     \n",
            "==================================================================================================\n",
            "I1 (InputLayer)                 [(None, None)]       0                                            \n",
            "__________________________________________________________________________________________________\n",
            "I2 (InputLayer)                 [(None, None)]       0                                            \n",
            "__________________________________________________________________________________________________\n",
            "embedding (Embedding)           (None, None, 500)    6152500     I1[0][0]                         \n",
            "__________________________________________________________________________________________________\n",
            "embedding_1 (Embedding)         (None, None, 500)    7513500     I2[0][0]                         \n",
            "__________________________________________________________________________________________________\n",
            "lstm (LSTM)                     [(None, None, 500),  2002000     embedding[0][0]                  \n",
            "__________________________________________________________________________________________________\n",
            "lstm_1 (LSTM)                   [(None, None, 500),  2002000     embedding_1[0][0]                \n",
            "                                                                 lstm[0][1]                       \n",
            "                                                                 lstm[0][2]                       \n",
            "__________________________________________________________________________________________________\n",
            "concatenate (Concatenate)       (None, None, 1000)   0           lstm_1[0][0]                     \n",
            "                                                                 lstm[0][0]                       \n",
            "__________________________________________________________________________________________________\n",
            "gru (GRU)                       [(None, 500), (None, 2253000     concatenate[0][0]                \n",
            "__________________________________________________________________________________________________\n",
            "O1 (Dense)                      (None, None, 15027)  7528527     lstm_1[0][0]                     \n",
            "__________________________________________________________________________________________________\n",
            "O2 (Dense)                      (None, 15027)        7528527     gru[0][0]                        \n",
            "==================================================================================================\n",
            "Total params: 34,980,054\n",
            "Trainable params: 34,980,054\n",
            "Non-trainable params: 0\n",
            "__________________________________________________________________________________________________\n"
          ],
          "name": "stdout"
        },
        {
          "output_type": "execute_result",
          "data": {
            "image/jpeg": "[encoded data removed]",
            "text/plain": [
              "<IPython.core.display.Image object>"
            ]
          },
          "metadata": {
            "tags": []
          },
          "execution_count": 37
        }
      ]
    },
    {
      "cell_type": "code",
      "metadata": {
        "id": "_yTFXtxt6-8N"
      },
      "source": [
        "train_samples = len(X_train)\n",
        "val_samples = len(X_test)\n",
        "batch_size = 71\n",
        "epochs = 10"
      ],
      "execution_count": 38,
      "outputs": []
    },
    {
      "cell_type": "code",
      "metadata": {
        "id": "v9LxiLnm6-7S"
      },
      "source": [
        "def generate_batch(X = X_train, y = y_train, y1 = y1_train, y2 = y2_train, batch_size = 128):\n",
        "    ''' Generate a batch of data '''\n",
        "    while True:\n",
        "        for j in range(0, len(X), batch_size):\n",
        "            encoder_input_data = np.zeros((batch_size, max_length_src),dtype='float32')\n",
        "            decoder_input_data = np.zeros((batch_size, max_length_tar),dtype='float32')\n",
        "            decoder_target_data = np.zeros((batch_size, max_length_tar, num_decoder_tokens),dtype='float32')\n",
        "            decoder_target_data1 = np.zeros((batch_size, num_encoder_tokens),dtype='float32')\n",
        "            decoder_target_data2 = np.zeros((batch_size, num_decoder_tokens),dtype='float32')\n",
        "            for i, (input_text, target_text, target_word1, target_word2) in enumerate(zip(X[j:j+batch_size], y[j:j+batch_size], y1[j:j+batch_size], y2[j:j+batch_size])):\n",
        "                for t, word in enumerate(input_text.split()):\n",
        "                    encoder_input_data[i, t] = input_token_index[word] # encoder input seq\n",
        "                for t, word in enumerate(target_text.split()):\n",
        "                    if t<len(target_text.split())-1:\n",
        "                        #print(i,t,decoder_input_data.shape,len(target_token_index),word)\n",
        "                        decoder_input_data[i, t] = target_token_index[word] # decoder input seq\n",
        "                    if t>0:\n",
        "                        # decoder target sequence (one hot encoded)\n",
        "                        # does not include the START_ token\n",
        "                        # Offset by one timestep\n",
        "                        decoder_target_data[i, t - 1, target_token_index[word]] = 1.\n",
        "                #print(y1_train[j][0])\n",
        "                #print(y2_train,i,j)\n",
        "                #print(i,j)\n",
        "                #decoder_target_data1[i, y1_train[j][0]] = 1.\n",
        "                if(target_word2 in target_token_index):\n",
        "                  decoder_target_data2[i, target_token_index[target_word2]] = 1.\n",
        "                else:\n",
        "                  print(target_word2)\n",
        "            yield([encoder_input_data, decoder_input_data], [decoder_target_data,decoder_target_data2])"
      ],
      "execution_count": 39,
      "outputs": []
    },
    {
      "cell_type": "code",
      "metadata": {
        "id": "zY1APPy46-8X",
        "outputId": "5af834c0-0b2a-4cf3-a9bb-357091dfdfd2",
        "colab": {
          "base_uri": "https://localhost:8080/"
        }
      },
      "source": [
        "#print(X_train,y_train,y1_train,y2_train)\n",
        "model.fit(generate_batch(X_train, y_train,y1_train,y2_train, batch_size = batch_size),\n",
        "                    steps_per_epoch = train_samples//batch_size,\n",
        "                    epochs=epochs,\n",
        "                    validation_data = generate_batch(X_test, y_test,y1_test,y2_test, batch_size = batch_size),\n",
        "                    validation_steps = val_samples//batch_size)\n",
        "# model.fit(\n",
        "#     x={'I1':X_train, 'I2':x2}, y=(y_train,y1_train,y2_train), batch_size=batch_size, epochs=1, verbose=1, callbacks=None,\n",
        "#     validation_split=0.2, validation_data=(X_test, (y_test,y1_test,y2_test)), shuffle=True, class_weight=None,\n",
        "#     sample_weight=None, initial_epoch=0, steps_per_epoch=None,\n",
        "#     validation_steps=None, validation_batch_size=batch_size, validation_freq=1,\n",
        "#     max_queue_size=10, workers=1, use_multiprocessing=False\n",
        "#)\n",
        "# obj = generate_batch(X_train, y_train,y1_train,y2_train, batch_size = batch_size)\n",
        "# print(obj)"
      ],
      "execution_count": null,
      "outputs": [
        {
          "output_type": "stream",
          "text": [
            "Epoch 1/10\n",
            "102/102 [==============================] - 1241s 12s/step - loss: 10.5609 - O1_loss: 0.9171 - O2_loss: 9.6438 - val_loss: 10.4620 - val_O1_loss: 0.8373 - val_O2_loss: 9.6247\n",
            "Epoch 2/10\n",
            "102/102 [==============================] - 1274s 12s/step - loss: 9.6979 - O1_loss: 0.8243 - O2_loss: 8.8736 - val_loss: 11.1244 - val_O1_loss: 0.8203 - val_O2_loss: 10.3041\n",
            "Epoch 3/10\n",
            " 75/102 [=====================>........] - ETA: 5:16 - loss: 9.1688 - O1_loss: 0.7827 - O2_loss: 8.3861"
          ],
          "name": "stdout"
        }
      ]
    },
    {
      "cell_type": "code",
      "metadata": {
        "id": "5Klap5DX6-8i"
      },
      "source": [
        "model.save_weights('/content/drive/My Drive/nmt_weights1.h5')"
      ],
      "execution_count": null,
      "outputs": []
    },
    {
      "cell_type": "code",
      "metadata": {
        "id": "y7dq6Xns6-8z"
      },
      "source": [
        "\n",
        "\n",
        "# Below tensors will hold the states of the previous time step\n",
        "encoder_state_input_h = Input(shape=(latent_dim,))\n",
        "encoder_state_input_c = Input(shape=(latent_dim,))\n",
        "encoder_states_inputs = [encoder_state_input_h, encoder_state_input_c]\n",
        "\n",
        "enc_emb1 = enc_emb_layer(encoder_inputs)\n",
        "encoder_outputs2, encoder_inputs_h, encoder_states_c = encoder_lstm(enc_emb1)\n",
        "# Encode the input sequence to get the \"thought vectors\"\n",
        "encoder_model = Model(encoder_inputs, encoder_states)\n",
        "\n",
        "# Decoder setup\n",
        "# Below tensors will hold the states of the previous time step\n",
        "decoder_state_input_h = Input(shape=(latent_dim,))\n",
        "decoder_state_input_c = Input(shape=(latent_dim,))\n",
        "decoder_states_inputs = [decoder_state_input_h, decoder_state_input_c]\n",
        "\n",
        "dec_emb2= dec_emb_layer(decoder_inputs) # Get the embeddings of the decoder sequence\n",
        "\n",
        "# To predict the next word in the sequence, set the initial states to the states from the previous time step\n",
        "decoder_outputs21, state_h2, state_c2 = decoder_lstm(dec_emb2, initial_state=decoder_states_inputs)\n",
        "decoder_states2 = [state_h2, state_c2]\n",
        "decoder_outputs2 = decoder_dense(decoder_outputs21) # A dense softmax layer to generate prob dist. over the target vocabulary\n",
        "\n",
        "#print(decoder_outputs21.shape,encoder_outputs2.shape)\n",
        "concad = Concatenate()([decoder_outputs21,encoder_outputs2])\n",
        "seqr,cns = decoder_lstmd(concad)\n",
        "\n",
        "decoder_outputs2r = decoder_dense1(seqr)\n",
        "\n",
        "# Final decoder model\n",
        "decoder_model = Model(\n",
        "    [encoder_inputs,decoder_inputs] + decoder_states_inputs,[decoder_outputs2,decoder_outputs2r] + decoder_states2)\n"
      ],
      "execution_count": null,
      "outputs": []
    },
    {
      "cell_type": "code",
      "metadata": {
        "id": "Tw-mbsy36-9G"
      },
      "source": [
        "train_gen = generate_batch(X_train, y_train,y1_train,y2_train, batch_size = 1)\n",
        "k=-1\n"
      ],
      "execution_count": null,
      "outputs": []
    },
    {
      "cell_type": "code",
      "metadata": {
        "id": "e3ZZe9ns6-87"
      },
      "source": [
        "def decode_sequence(input_seq):\n",
        "    # Encode the input as state vectors.\n",
        "    states_value = encoder_model.predict(input_seq)\n",
        "    # Generate empty target sequence of length 1.\n",
        "    target_seq = np.zeros((1,1))\n",
        "    # Populate the first character of target sequence with the start character.\n",
        "    target_seq[0, 0] = target_token_index['START_']\n",
        "    input_seq = input_seq.reshape(max_length_src,1,1)\n",
        "    # Sampling loop for a batch of sequences\n",
        "    # (to simplify, here we assume a batch of size 1).\n",
        "    stop_condition = False\n",
        "    decoded_sentence = ''\n",
        "    i =0;\n",
        "    while not stop_condition:\n",
        "        #print(i)\n",
        "        obj = [target_seq] + states_value\n",
        "        #print(\"dd\",i,input_seq.shape,input_seq.shape,target_seq,target_seq.shape,states_value[0].shape,states_value[1].shape)\n",
        "        outp  = decoder_model.predict([input_seq[i],target_seq] + states_value)\n",
        "        #print(outp[3].shape)\n",
        "        output_tokens, q,h, c = outp\n",
        "        # Sample a token\n",
        "        sampled_token_index = np.argmax(output_tokens[0, -1, :])\n",
        "        sampled_char = reverse_target_char_index[sampled_token_index]\n",
        "        \n",
        "        qin = np.argmax(q)\n",
        "        q = reverse_target_char_index[qin]\n",
        "        decoded_sentence += ' '+sampled_char\n",
        "\n",
        "        # Exit condition: either hit max length\n",
        "        # or find stop character.\n",
        "        if (sampled_char == '_END' or\n",
        "           len(decoded_sentence) > 50):\n",
        "            stop_condition = True\n",
        "\n",
        "        # Update the target sequence (of length 1).\n",
        "        target_seq = np.zeros((1,1))\n",
        "        target_seq[0, 0] = sampled_token_index\n",
        "\n",
        "        # Update states\n",
        "        states_value = [h, c]\n",
        "\n",
        "        i=i+1;\n",
        "    return decoded_sentence,q"
      ],
      "execution_count": null,
      "outputs": []
    },
    {
      "cell_type": "code",
      "metadata": {
        "id": "R91v-W8D6-9R"
      },
      "source": [
        "k+=1\n",
        "(input_seq, actual_output), _ = next(train_gen)\n",
        "decoded_sentence,decoded_word = decode_sequence(input_seq)\n",
        "print('Input English sentence:', X_train[k:k+1].values[0])\n",
        "print('Actual Hindi Translation:', y_train[k:k+1].values[0][6:-4])\n",
        "print('Predicted Hindi Translation:', decoded_sentence[:-4])\n",
        "print('Predicted Hindi Word:', decoded_word)"
      ],
      "execution_count": null,
      "outputs": []
    },
    {
      "cell_type": "code",
      "metadata": {
        "id": "QWaQQjfX6-9c"
      },
      "source": [
        "k+=1\n",
        "(input_seq, actual_output), _ = next(train_gen)\n",
        "decoded_sentence,decoded_word = decode_sequence(input_seq)\n",
        "print('Input English sentence:', X_train[k:k+1].values[0])\n",
        "print('Actual Hindi Translation:', y_train[k:k+1].values[0][6:-4])\n",
        "print('Predicted Hindi Translation:', decoded_sentence[:-4])\n",
        "print('Predicted Hindi Word:', decoded_word)"
      ],
      "execution_count": null,
      "outputs": []
    },
    {
      "cell_type": "code",
      "metadata": {
        "id": "IPv0wCa46-9l"
      },
      "source": [
        "k+=1\n",
        "(input_seq, actual_output), _ = next(train_gen)\n",
        "decoded_sentence,decoded_word = decode_sequence(input_seq)\n",
        "print('Input English sentence:', X_train[k:k+1].values[0])\n",
        "print('Actual Hindi Translation:', y_train[k:k+1].values[0][6:-4])\n",
        "print('Predicted Hindi Translation:', decoded_sentence[:-4])\n",
        "print('Predicted Hindi Word:', decoded_word)"
      ],
      "execution_count": null,
      "outputs": []
    },
    {
      "cell_type": "code",
      "metadata": {
        "id": "Stdo3OiA6-9x"
      },
      "source": [
        "k+=1\n",
        "(input_seq, actual_output), _ = next(train_gen)\n",
        "decoded_sentence,decoded_word = decode_sequence(input_seq)\n",
        "print('Input English sentence:', X_train[k:k+1].values[0])\n",
        "print('Actual Hindi Translation:', y_train[k:k+1].values[0][6:-4])\n",
        "print('Predicted Hindi Translation:', decoded_sentence[:-4])\n",
        "print('Predicted Hindi Word:', decoded_word)"
      ],
      "execution_count": null,
      "outputs": []
    },
    {
      "cell_type": "code",
      "metadata": {
        "id": "wj6yzMlp6-95"
      },
      "source": [
        "k+=1\n",
        "(input_seq, actual_output), _ = next(train_gen)\n",
        "decoded_sentence,decoded_word = decode_sequence(input_seq)\n",
        "print('Input English sentence:', X_train[k:k+1].values[0])\n",
        "print('Actual Hindi Translation:', y_train[k:k+1].values[0][6:-4])\n",
        "print('Predicted Hindi Translation:', decoded_sentence[:-4])\n",
        "print('Predicted Hindi Word:', decoded_word)"
      ],
      "execution_count": null,
      "outputs": []
    }
  ]
}