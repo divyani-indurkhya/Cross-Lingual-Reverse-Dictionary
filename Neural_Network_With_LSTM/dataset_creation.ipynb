{
 "cells": [
  {
   "cell_type": "code",
   "execution_count": 1,
   "metadata": {},
   "outputs": [],
   "source": [
    "from collections import Counter, OrderedDict,defaultdict\n",
    "import numpy as np\n",
    "import string\n",
    "import re\n",
    "import pandas as pd\n"
   ]
  },
  {
   "cell_type": "code",
   "execution_count": 4,
   "metadata": {},
   "outputs": [
    {
     "name": "stdout",
     "output_type": "stream",
     "text": [
      "             pos                   english  \\\n",
      "13804  ADJECTIVE  ['forty-fourth', '44th']   \n",
      "\n",
      "                                           english_gloss english_example  \\\n",
      "13804  the ordinal number of forty-four in counting o...             NaN   \n",
      "\n",
      "                                                   hindi  \\\n",
      "13804  ['चवालीसवाँ', 'चौआलिसवाँ', 'चौंआलिसवाँ', 'चौवा...   \n",
      "\n",
      "                               hindi_gloss                    hindi_example  \\\n",
      "13804  गणना में चवालीस के स्थान पर आनेवाला  चवालीसवें खूंटे पर फूल बना है ।   \n",
      "\n",
      "                                                 marathi  \\\n",
      "13804  ['चवेचाळिसावा', 'चव्वेचाळिसावा', 'चवेताळिसावा'...   \n",
      "\n",
      "                                  marathi_gloss  \\\n",
      "13804  गणनाक्रमात चव्वेचाळीस ह्या स्थानी येणारा   \n",
      "\n",
      "                           marathi_example             punjabi  \\\n",
      "13804  चव्वेचाळिसाव्या पानावरची नोंद पाहा.  ['ਚਤਾਲੀਵਾਂ', '44']   \n",
      "\n",
      "                           punjabi_gloss                punjabi_example  \\\n",
      "13804  ਗਣਨਾ ਵਿਚ ਚਤਾਲੀਵੇ ਸਥਾਨ ਤੇ ਆਉਣ ਵਾਲਾ  ਚਤਾਲੀਵੇਂ ਕਿਲੇ ਤੇ ਫੁੱਲ ਬਣਿਆ ਹੈ   \n",
      "\n",
      "               bengali                 bengali_gloss  \\\n",
      "13804  ['চুয়াল্লিশতম']  গণনায় চল্লিশতম স্থানে যা আসে   \n",
      "\n",
      "                     bengali_example  \n",
      "13804  চুয়াল্লিশতম খুঁটিতে ফুল হয়েছে  \n"
     ]
    }
   ],
   "source": [
    "data=pd.read_csv(\"data_lang.csv\")\n",
    "# data=np.array(data)\n",
    "data_len=len(data)\n",
    "path=\"dataset/Cross_word_mapping/\"\n",
    "print(data[4:5])"
   ]
  },
  {
   "cell_type": "code",
   "execution_count": 3,
   "metadata": {},
   "outputs": [],
   "source": [
    "english_hindi=defaultdict(list)\n",
    "hindi_english=defaultdict(list)\n",
    "english_marathi=defaultdict(list)\n",
    "marathi_english=defaultdict(list)\n",
    "english_punjabi=defaultdict(list)\n",
    "punjabi_english=defaultdict(list)\n",
    "english_bengali=defaultdict(list)\n",
    "bengali_english=defaultdict(list)\n",
    "hindi_marathi=defaultdict(list)\n",
    "marathi_hindi=defaultdict(list)\n",
    "hindi_punjabi=defaultdict(list)\n",
    "punjabi_hindi=defaultdict(list)\n",
    "hindi_bengali=defaultdict(list)\n",
    "bengali_hindi=defaultdict(list)\n",
    "marathi_punjabi=defaultdict(list)\n",
    "punjabi_marathi=defaultdict(list)\n",
    "marathi_bengali=defaultdict(list)\n",
    "bengali_marathi=defaultdict(list)\n",
    "punjabi_bengali=defaultdict(list)\n",
    "bengali_punjabi=defaultdict(list)"
   ]
  },
  {
   "cell_type": "code",
   "execution_count": 4,
   "metadata": {},
   "outputs": [],
   "source": [
    "df=data[['english','hindi','marathi','punjabi','bengali']]"
   ]
  },
  {
   "cell_type": "code",
   "execution_count": 5,
   "metadata": {},
   "outputs": [],
   "source": [
    "def word_mapping(word_line):\n",
    "    word_line=str(word_line)\n",
    "    word_line=word_line[1:len(word_line)-1]\n",
    "    word_line=word_line.split(',')\n",
    "    word_return=[]\n",
    "    for word in word_line:\n",
    "        word=word.strip()\n",
    "        word=word[1:len(word)-1]\n",
    "        word_return.append(word)\n",
    "    return word_return"
   ]
  },
  {
   "cell_type": "code",
   "execution_count": 6,
   "metadata": {},
   "outputs": [],
   "source": [
    "df=np.array(df)\n",
    "#preparation for word mapping mapping\n",
    "for i in range(0,len(df)):\n",
    "    english=word_mapping(df[i][0])\n",
    "    hindi=word_mapping(df[i][1])\n",
    "    punjabi=word_mapping(df[i][3])\n",
    "    marathi=word_mapping(df[i][2])\n",
    "    bengali=word_mapping(df[i][4])\n",
    "    for word in english:\n",
    "        english_hindi[word].append(hindi)\n",
    "        english_punjabi[word].append(punjabi)\n",
    "        english_marathi[word].append(marathi)\n",
    "        english_bengali[word].append(bengali)\n",
    "    for word in hindi:\n",
    "        hindi_english[word].append(english)\n",
    "        hindi_punjabi[word].append(punjabi)\n",
    "        hindi_marathi[word].append(marathi)\n",
    "        hindi_bengali[word].append(bengali)\n",
    "    for word in punjabi:\n",
    "        punjabi_hindi[word].append(hindi)\n",
    "        punjabi_english[word].append(english)\n",
    "        punjabi_marathi[word].append(marathi)\n",
    "        punjabi_bengali[word].append(bengali)\n",
    "    for word in marathi:\n",
    "        marathi_hindi[word].append(hindi)\n",
    "        marathi_punjabi[word].append(punjabi)\n",
    "        marathi_english[word].append(english)\n",
    "        marathi_bengali[word].append(bengali)\n",
    "    for word in bengali:\n",
    "        bengali_hindi[word].append(hindi)\n",
    "        bengali_punjabi[word].append(punjabi)\n",
    "        bengali_marathi[word].append(marathi)\n",
    "        bengali_english[word].append(english)\n",
    "    "
   ]
  },
  {
   "cell_type": "code",
   "execution_count": 7,
   "metadata": {},
   "outputs": [],
   "source": [
    "def writeLangDef(def_dict,filename):\n",
    "    f=open(filename,\"w\")\n",
    "    for i in def_dict:\n",
    "        f.write(str(i)+\"\\t\"+str(def_dict[i])+\"\\n\")\n",
    "    "
   ]
  },
  {
   "cell_type": "code",
   "execution_count": 8,
   "metadata": {},
   "outputs": [],
   "source": [
    "listofdict=[english_hindi,english_punjabi,english_marathi,english_bengali,hindi_english,hindi_punjabi,hindi_marathi\\\n",
    "            ,hindi_bengali,punjabi_hindi,punjabi_english,punjabi_marathi,punjabi_bengali,marathi_hindi,\\\n",
    "            marathi_punjabi,marathi_english,marathi_bengali,bengali_hindi,bengali_punjabi,bengali_marathi,bengali_english]\n",
    "listofdictname=['english_hindi','english_punjabi','english_marathi','english_bengali','hindi_english',\\\n",
    "                'hindi_punjabi','hindi_marathi','hindi_bengali','punjabi_hindi','punjabi_english',\\\n",
    "                'punjabi_marathi','punjabi_bengali','marathi_hindi','marathi_punjabi','marathi_english',\\\n",
    "                'marathi_bengali','bengali_hindi','bengali_punjabi','bengali_marathi','bengali_english']\n",
    "for i in range(0,len(listofdict)):\n",
    "    writeLangDef(listofdict[i],path+listofdictname[i]+\".txt\")\n",
    "\n"
   ]
  },
  {
   "cell_type": "code",
   "execution_count": 4,
   "metadata": {},
   "outputs": [],
   "source": [
    "english_word_def={}\n",
    "hindi_word_def={}\n",
    "marathi_word_def={}\n",
    "punjabi_word_def={}\n",
    "bengali_word_def={}\n"
   ]
  },
  {
   "cell_type": "code",
   "execution_count": 5,
   "metadata": {},
   "outputs": [],
   "source": [
    "def word_def(word_line,definition,def_dict):\n",
    "#     print(word_line)\n",
    "    word_line=str(word_line)\n",
    "#     print(word_line)\n",
    "#     word_line=word_line.to_string()\n",
    "    word_line=word_line[word_line.index(\"[\"):]\n",
    "    word_line=word_line[1:len(word_line)-1]\n",
    "    word_line=word_line[1:len(word_line)-1]\n",
    "    word_line=word_line[1:len(word_line)-1]\n",
    "    word_line=word_line.split(',')\n",
    "    definition=str(definition)\n",
    "    definition=definition.strip()\n",
    "    definition=definition[2:len(definition)-2]\n",
    "    definition=definition.strip()\n",
    "#     print(definition)\n",
    "    word_return=[]\n",
    "    for word in word_line:\n",
    "        word=word.strip()\n",
    "        word=word[1:len(word)-1]\n",
    "        word_return.append(word)\n",
    "        def_dict[word]=definition\n",
    "    return word_return\n",
    "        \n",
    "\n",
    "    \n",
    "    "
   ]
  },
  {
   "cell_type": "code",
   "execution_count": 6,
   "metadata": {},
   "outputs": [],
   "source": [
    "def lang_mapping(a,b,map_list):\n",
    "    for i in a:\n",
    "        for j in b:\n",
    "            temp=[i,j]\n",
    "            map_list.append(temp)\n",
    "            \n",
    "            \n",
    "    "
   ]
  },
  {
   "cell_type": "code",
   "execution_count": 7,
   "metadata": {},
   "outputs": [],
   "source": [
    "def mapping(english,hindi,marathi,punjabi,bengali):\n",
    "    lang_mapping(english,hindi,english_hindi)\n",
    "    lang_mapping(english,marathi,english_marathi)\n",
    "    lang_mapping(english,punjabi,english_punjabi)\n",
    "    lang_mapping(english,bengali,english_bengali)\n",
    "    lang_mapping(hindi,english,hindi_english)\n",
    "    lang_mapping(hindi,marathi,hindi_marathi)\n",
    "    lang_mapping(hindi,punjabi,hindi_punjabi)\n",
    "    lang_mapping(hindi,bengali,hindi_bengali)\n",
    "    lang_mapping(marathi,english,marathi_english)\n",
    "    lang_mapping(marathi,hindi,marathi_hindi)\n",
    "    lang_mapping(marathi,punjabi,marathi_punjabi)\n",
    "    lang_mapping(marathi,bengali,marathi_bengali) \n",
    "    lang_mapping(punjabi,english,punjabi_english)\n",
    "    lang_mapping(punjabi,hindi,punjabi_hindi)\n",
    "    lang_mapping(punjabi,marathi,punjabi_marathi)\n",
    "    lang_mapping(punjabi,bengali,punjabi_bengali)\n",
    "    lang_mapping(bengali,english,bengali_english)\n",
    "    lang_mapping(bengali,hindi,bengali_hindi)\n",
    "    lang_mapping(bengali,marathi,bengali_marathi)\n",
    "    lang_mapping(bengali,punjabi,bengali_punjabi)\n",
    "    "
   ]
  },
  {
   "cell_type": "code",
   "execution_count": 8,
   "metadata": {},
   "outputs": [],
   "source": [
    "for i in range(0,len(data)):\n",
    "#     print(i,)\n",
    "    line=data[i]\n",
    "    word_list=[line[1:2],line[4:5],line[7:8],line[10:11],line[13:14]]\n",
    "    word_gloss=[line[2:3],line[5:6],line[8:9],line[11:12],line[14:15]]\n",
    "    english=word_def(word_list[0],word_gloss[0],english_word_def)\n",
    "    hindi=word_def(word_list[1],word_gloss[1],hindi_word_def)\n",
    "    marathi=word_def(word_list[2],word_gloss[2],marathi_word_def)\n",
    "    punjabi=word_def(word_list[3],word_gloss[3],punjabi_word_def)\n",
    "    bengali=word_def(word_list[4],word_gloss[4],bengali_word_def)\n",
    "    mapping(english,hindi,marathi,punjabi,bengali)\n"
   ]
  },
  {
   "cell_type": "code",
   "execution_count": 10,
   "metadata": {},
   "outputs": [],
   "source": [
    "def writeLangDef(def_dict,filename):\n",
    "    f=open(filename,\"w\")\n",
    "    for i in def_dict:\n",
    "        f.write(str(i)+\"\\t\"+str(def_dict[i])+\"\\n\")\n",
    "    \n",
    "    \n",
    "    "
   ]
  },
  {
   "cell_type": "code",
   "execution_count": 11,
   "metadata": {},
   "outputs": [],
   "source": [
    "writeLangDef(english_word_def,path+\"english_word_def.txt\")\n",
    "writeLangDef(hindi_word_def,path+\"hindi_word_def.txt\")\n",
    "writeLangDef(marathi_word_def,path+\"marathi_word_def.txt\")\n",
    "writeLangDef(punjabi_word_def,path+\"punjabi_word_def.txt\")\n",
    "writeLangDef(bengali_word_def,path+\"bengali_word_def.txt\")\n"
   ]
  }
 ],
 "metadata": {
  "kernelspec": {
   "display_name": "Python 3",
   "language": "python",
   "name": "python3"
  },
  "language_info": {
   "codemirror_mode": {
    "name": "ipython",
    "version": 3
   },
   "file_extension": ".py",
   "mimetype": "text/x-python",
   "name": "python",
   "nbconvert_exporter": "python",
   "pygments_lexer": "ipython3",
   "version": "3.7.3"
  }
 },
 "nbformat": 4,
 "nbformat_minor": 2
}
